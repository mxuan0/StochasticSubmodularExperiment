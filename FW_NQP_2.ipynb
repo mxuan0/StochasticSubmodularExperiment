{
 "cells": [
  {
   "cell_type": "code",
   "execution_count": 1,
   "id": "a8b0fa2a",
   "metadata": {},
   "outputs": [],
   "source": [
    "import cvxpy as cp\n",
    "import numpy as np\n",
    "import pdb\n",
    "from tqdm import tqdm\n",
    "\n",
    "class FW:\n",
    "    def __init__(self, constraint_var, constraints, H, A, h, u_bar):\n",
    "      \n",
    "        self.constraint_var = constraint_var\n",
    "        self.constraints = constraints\n",
    "        self.H, self.A, self.h, self.u_bar = H, A, h, u_bar\n",
    "        self.n = H.shape[1]\n",
    "        self.m = A.shape[0]\n",
    "\n",
    "    def project(self, constraints, grad):\n",
    "\n",
    "        x = self.constraint_var\n",
    "        objective = cp.Maximize(cp.scalar_product(x, grad)) \n",
    "        prob = cp.Problem(objective, constraints)\n",
    "        prob.solve() \n",
    "        return x.value\n",
    "\n",
    "\n",
    "    def stochastic_continuous_greedy_step(self, x, grad, epoch, alpha):\n",
    "       \n",
    "        s = np.zeros_like(grad)\n",
    "        \n",
    "        for i in range(s.shape[0]):\n",
    "            s[i] = self.project( self.constraints, grad[i])\n",
    "        \n",
    "        \n",
    "        return (1- alpha)*x + alpha*s \n",
    "\n",
    "    \n",
    "    def compute_value_grad(self, x, noise_scale=10):\n",
    "        noise = np.random.normal(scale=noise_scale, size=x.shape)\n",
    "        \n",
    "        value = 1/2*x @ self.H @ x.T + self.h.T @ x.T\n",
    "        gradient = self.H@x.T + self.h\n",
    "        \n",
    "        return value[0][0], gradient + noise\n",
    "    \n",
    "    \n",
    "    def stochastic_continuous_greedy(self, epoch, weight_shape):\n",
    "\n",
    "        x = np.zeros(shape=weight_shape) + 1e-5\n",
    "        values = []\n",
    "        for e in tqdm(range(epoch)):\n",
    "            alpha = (0.1 / (e + 1))\n",
    "            #print(alpha)\n",
    "            value, grad = self.compute_value_grad(x)\n",
    "            x = self.stochastic_continuous_greedy_step(x, grad, epoch, alpha)\n",
    "            values.append(value)\n",
    "\n",
    "        return values "
   ]
  },
  {
   "cell_type": "code",
   "execution_count": 2,
   "id": "443214fc",
   "metadata": {
    "scrolled": true
   },
   "outputs": [
    {
     "name": "stderr",
     "output_type": "stream",
     "text": [
      "100%|█████████████████████████████████████████| 300/300 [00:13<00:00, 21.80it/s]\n",
      "100%|█████████████████████████████████████████| 300/300 [00:13<00:00, 22.08it/s]\n",
      "100%|█████████████████████████████████████████| 300/300 [00:13<00:00, 22.53it/s]\n",
      "100%|█████████████████████████████████████████| 300/300 [00:13<00:00, 22.76it/s]\n",
      "100%|█████████████████████████████████████████| 300/300 [00:13<00:00, 22.85it/s]\n",
      "100%|█████████████████████████████████████████| 300/300 [00:13<00:00, 22.79it/s]\n",
      "100%|█████████████████████████████████████████| 300/300 [00:13<00:00, 22.81it/s]\n",
      "100%|█████████████████████████████████████████| 300/300 [00:13<00:00, 22.81it/s]\n",
      "100%|█████████████████████████████████████████| 300/300 [00:13<00:00, 22.77it/s]\n",
      "100%|█████████████████████████████████████████| 300/300 [00:13<00:00, 22.48it/s]\n",
      "100%|█████████████████████████████████████████| 300/300 [00:13<00:00, 22.25it/s]\n",
      "100%|█████████████████████████████████████████| 300/300 [00:13<00:00, 22.68it/s]\n",
      "100%|█████████████████████████████████████████| 300/300 [00:13<00:00, 22.80it/s]\n",
      "100%|█████████████████████████████████████████| 300/300 [00:13<00:00, 22.75it/s]\n",
      "100%|█████████████████████████████████████████| 300/300 [00:13<00:00, 22.71it/s]\n",
      "100%|█████████████████████████████████████████| 300/300 [00:13<00:00, 22.62it/s]\n",
      "100%|█████████████████████████████████████████| 300/300 [00:13<00:00, 22.68it/s]\n",
      "100%|█████████████████████████████████████████| 300/300 [00:13<00:00, 22.69it/s]\n",
      "100%|█████████████████████████████████████████| 300/300 [00:13<00:00, 22.82it/s]\n",
      "100%|█████████████████████████████████████████| 300/300 [00:13<00:00, 22.25it/s]\n",
      "100%|█████████████████████████████████████████| 300/300 [00:15<00:00, 19.22it/s]\n",
      "100%|█████████████████████████████████████████| 300/300 [00:13<00:00, 22.52it/s]\n",
      "100%|█████████████████████████████████████████| 300/300 [00:13<00:00, 22.09it/s]\n",
      "100%|█████████████████████████████████████████| 300/300 [00:13<00:00, 22.57it/s]\n",
      "100%|█████████████████████████████████████████| 300/300 [00:13<00:00, 22.85it/s]\n",
      "100%|█████████████████████████████████████████| 300/300 [00:13<00:00, 22.74it/s]\n",
      "100%|█████████████████████████████████████████| 300/300 [00:13<00:00, 22.82it/s]\n",
      "100%|█████████████████████████████████████████| 300/300 [00:13<00:00, 22.14it/s]\n",
      "100%|█████████████████████████████████████████| 300/300 [00:13<00:00, 21.94it/s]\n",
      "100%|█████████████████████████████████████████| 300/300 [00:13<00:00, 22.15it/s]\n",
      "100%|█████████████████████████████████████████| 300/300 [00:13<00:00, 22.13it/s]\n",
      "100%|█████████████████████████████████████████| 300/300 [00:13<00:00, 22.09it/s]\n",
      "100%|█████████████████████████████████████████| 300/300 [00:13<00:00, 22.66it/s]\n",
      "100%|█████████████████████████████████████████| 300/300 [00:13<00:00, 22.14it/s]\n",
      "100%|█████████████████████████████████████████| 300/300 [00:13<00:00, 22.09it/s]\n",
      "100%|█████████████████████████████████████████| 300/300 [00:13<00:00, 22.27it/s]\n",
      "100%|█████████████████████████████████████████| 300/300 [00:13<00:00, 22.11it/s]\n",
      "100%|█████████████████████████████████████████| 300/300 [00:13<00:00, 22.15it/s]\n",
      "100%|█████████████████████████████████████████| 300/300 [00:13<00:00, 22.26it/s]\n",
      "100%|█████████████████████████████████████████| 300/300 [00:13<00:00, 22.48it/s]\n",
      "100%|█████████████████████████████████████████| 300/300 [00:13<00:00, 22.80it/s]\n",
      "100%|█████████████████████████████████████████| 300/300 [00:13<00:00, 22.50it/s]\n",
      "100%|█████████████████████████████████████████| 300/300 [00:13<00:00, 22.70it/s]\n",
      "100%|█████████████████████████████████████████| 300/300 [00:13<00:00, 22.71it/s]\n",
      "100%|█████████████████████████████████████████| 300/300 [00:13<00:00, 22.75it/s]\n",
      "100%|█████████████████████████████████████████| 300/300 [00:13<00:00, 21.94it/s]\n",
      "100%|█████████████████████████████████████████| 300/300 [00:15<00:00, 18.92it/s]\n",
      "100%|█████████████████████████████████████████| 300/300 [00:13<00:00, 22.16it/s]\n",
      "100%|█████████████████████████████████████████| 300/300 [00:13<00:00, 22.30it/s]\n",
      "100%|█████████████████████████████████████████| 300/300 [00:13<00:00, 22.74it/s]\n",
      "100%|█████████████████████████████████████████| 300/300 [00:13<00:00, 22.69it/s]\n",
      "100%|█████████████████████████████████████████| 300/300 [00:13<00:00, 22.76it/s]\n",
      "100%|█████████████████████████████████████████| 300/300 [00:13<00:00, 22.91it/s]\n",
      "100%|█████████████████████████████████████████| 300/300 [00:13<00:00, 22.60it/s]\n",
      "100%|█████████████████████████████████████████| 300/300 [00:13<00:00, 22.53it/s]\n",
      "100%|█████████████████████████████████████████| 300/300 [00:13<00:00, 23.00it/s]\n",
      "100%|█████████████████████████████████████████| 300/300 [00:12<00:00, 23.15it/s]\n",
      "100%|█████████████████████████████████████████| 300/300 [00:12<00:00, 23.08it/s]\n",
      "100%|█████████████████████████████████████████| 300/300 [00:12<00:00, 23.40it/s]\n",
      "100%|█████████████████████████████████████████| 300/300 [00:13<00:00, 22.65it/s]\n",
      "100%|█████████████████████████████████████████| 300/300 [00:13<00:00, 22.83it/s]\n",
      "100%|█████████████████████████████████████████| 300/300 [00:13<00:00, 22.78it/s]\n",
      "100%|█████████████████████████████████████████| 300/300 [00:13<00:00, 22.75it/s]\n",
      "100%|█████████████████████████████████████████| 300/300 [00:12<00:00, 23.19it/s]\n",
      "100%|█████████████████████████████████████████| 300/300 [00:12<00:00, 23.17it/s]\n",
      "100%|█████████████████████████████████████████| 300/300 [00:12<00:00, 23.31it/s]\n",
      "100%|█████████████████████████████████████████| 300/300 [00:13<00:00, 22.95it/s]\n",
      "100%|█████████████████████████████████████████| 300/300 [00:13<00:00, 22.25it/s]\n",
      "100%|█████████████████████████████████████████| 300/300 [00:13<00:00, 22.59it/s]\n",
      "100%|█████████████████████████████████████████| 300/300 [00:13<00:00, 22.44it/s]\n",
      "100%|█████████████████████████████████████████| 300/300 [00:13<00:00, 21.78it/s]\n",
      "100%|█████████████████████████████████████████| 300/300 [00:13<00:00, 22.41it/s]\n",
      "100%|█████████████████████████████████████████| 300/300 [00:13<00:00, 22.33it/s]\n",
      "100%|█████████████████████████████████████████| 300/300 [00:13<00:00, 22.49it/s]\n",
      "100%|█████████████████████████████████████████| 300/300 [00:13<00:00, 22.50it/s]\n",
      "100%|█████████████████████████████████████████| 300/300 [00:13<00:00, 21.99it/s]\n",
      "100%|█████████████████████████████████████████| 300/300 [00:13<00:00, 22.10it/s]\n",
      "100%|█████████████████████████████████████████| 300/300 [00:13<00:00, 22.36it/s]\n",
      "100%|█████████████████████████████████████████| 300/300 [00:13<00:00, 22.16it/s]\n",
      "100%|█████████████████████████████████████████| 300/300 [00:13<00:00, 21.99it/s]\n",
      "100%|█████████████████████████████████████████| 300/300 [00:13<00:00, 22.34it/s]\n",
      "100%|█████████████████████████████████████████| 300/300 [00:13<00:00, 22.14it/s]\n",
      "100%|█████████████████████████████████████████| 300/300 [00:13<00:00, 21.87it/s]\n",
      "100%|█████████████████████████████████████████| 300/300 [00:13<00:00, 21.81it/s]\n",
      "100%|█████████████████████████████████████████| 300/300 [00:13<00:00, 22.38it/s]\n",
      "100%|█████████████████████████████████████████| 300/300 [00:13<00:00, 21.99it/s]\n",
      "100%|█████████████████████████████████████████| 300/300 [00:13<00:00, 22.36it/s]\n",
      "100%|█████████████████████████████████████████| 300/300 [00:13<00:00, 21.99it/s]\n",
      "100%|█████████████████████████████████████████| 300/300 [00:13<00:00, 22.34it/s]\n",
      "100%|█████████████████████████████████████████| 300/300 [00:13<00:00, 21.83it/s]\n",
      "100%|█████████████████████████████████████████| 300/300 [00:13<00:00, 22.29it/s]\n",
      "100%|█████████████████████████████████████████| 300/300 [00:13<00:00, 22.36it/s]\n",
      "100%|█████████████████████████████████████████| 300/300 [00:13<00:00, 22.58it/s]\n",
      "100%|█████████████████████████████████████████| 300/300 [00:14<00:00, 21.42it/s]\n",
      "100%|█████████████████████████████████████████| 300/300 [00:13<00:00, 21.98it/s]\n",
      "100%|█████████████████████████████████████████| 300/300 [00:13<00:00, 21.86it/s]\n",
      "100%|█████████████████████████████████████████| 300/300 [00:13<00:00, 21.83it/s]\n",
      "100%|█████████████████████████████████████████| 300/300 [00:13<00:00, 22.49it/s]\n",
      "100%|█████████████████████████████████████████| 300/300 [00:13<00:00, 22.46it/s]\n",
      "100%|█████████████████████████████████████████| 300/300 [00:13<00:00, 22.42it/s]\n"
     ]
    }
   ],
   "source": [
    "Val = []\n",
    "run = 100\n",
    "for i in range(run):\n",
    "    n = 10\n",
    "    m = 50\n",
    "    b = 10\n",
    "    u_bar = np.ones((1,n))\n",
    "    H = np.random.uniform(-100, 0, (n, n))\n",
    "    A = np.random.uniform(0, 1, (m, n))\n",
    "    h = -1 * H.T @ u_bar.T\n",
    "    train_iter = 300\n",
    "    x = cp.Variable(shape=(1,n))\n",
    "    constraints = [0 <= x, x <= u_bar, A @ x.T <= b]\n",
    "    fw = FW(x, constraints, H, A, h, u_bar)\n",
    "    values = fw.stochastic_continuous_greedy(train_iter, (1,n))\n",
    "    Val.append(values)"
   ]
  },
  {
   "cell_type": "code",
   "execution_count": 3,
   "id": "d9b538b8",
   "metadata": {},
   "outputs": [
    {
     "data": {
      "image/png": "[encoded data removed]",
      "text/plain": [
       "<Figure size 432x288 with 1 Axes>"
      ]
     },
     "metadata": {
      "needs_background": "light"
     },
     "output_type": "display_data"
    }
   ],
   "source": [
    "import matplotlib.pyplot as plt\n",
    "plt.figure()\n",
    "#plt.axis([0, 50, -2500, 2500])\n",
    "plt.plot(values)\n",
    "plt.show()"
   ]
  },
  {
   "cell_type": "code",
   "execution_count": 4,
   "id": "2951db7f",
   "metadata": {},
   "outputs": [],
   "source": [
    "data = np.array(Val)\n",
    "average = np.average(data, axis=0)\n",
    "minimum = np.min(np.array(Val), axis=0) "
   ]
  },
  {
   "cell_type": "code",
   "execution_count": 7,
   "id": "2586b2dd",
   "metadata": {
    "scrolled": false
   },
   "outputs": [
    {
     "data": {
      "image/png": "[encoded data removed]",
      "text/plain": [
       "<Figure size 720x576 with 1 Axes>"
      ]
     },
     "metadata": {
      "needs_background": "light"
     },
     "output_type": "display_data"
    }
   ],
   "source": [
    "import matplotlib.pyplot as plt\n",
    "plt.figure(figsize=(10,8))\n",
    "plt.plot(minimum, color='orange', label='minimum')\n",
    "plt.plot(average, color='blue', label= 'average')\n",
    "plt.legend(loc=\"upper left\")\n",
    "plt.show()"
   ]
  },
  {
   "cell_type": "code",
   "execution_count": 6,
   "id": "37ce2d0d",
   "metadata": {},
   "outputs": [
    {
     "name": "stdout",
     "output_type": "stream",
     "text": [
      "P-correlation 0.9999987990147075\n"
     ]
    }
   ],
   "source": [
    "from scipy import stats\n",
    "r, f = stats.pearsonr(average, minimum)\n",
    "print(f\"P-correlation {r}\")"
   ]
  },
  {
   "cell_type": "code",
   "execution_count": null,
   "id": "86639abd",
   "metadata": {},
   "outputs": [],
   "source": []
  },
  {
   "cell_type": "code",
   "execution_count": null,
   "id": "1f3d9594",
   "metadata": {},
   "outputs": [],
   "source": []
  },
  {
   "cell_type": "code",
   "execution_count": null,
   "id": "3ff26a8f",
   "metadata": {},
   "outputs": [],
   "source": []
  }
 ],
 "metadata": {
  "kernelspec": {
   "display_name": "Python 3",
   "language": "python",
   "name": "python3"
  },
  "language_info": {
   "codemirror_mode": {
    "name": "ipython",
    "version": 3
   },
   "file_extension": ".py",
   "mimetype": "text/x-python",
   "name": "python",
   "nbconvert_exporter": "python",
   "pygments_lexer": "ipython3",
   "version": "3.7.11"
  }
 },
 "nbformat": 4,
 "nbformat_minor": 5
}
